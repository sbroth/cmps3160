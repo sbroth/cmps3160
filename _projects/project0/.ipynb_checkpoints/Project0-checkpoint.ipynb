{
 "cells": [
  {
   "cell_type": "markdown",
   "metadata": {},
   "source": [
    "# CMPS3160 - Project0\n",
    "\n",
    "This assignment is intended to ensure that you are able to edit and submit Jupyter Notebooks. \n",
    "\n",
    "The goal is to write a function to count the frequency of different characters in a given string. For example: character_frequency('google') should return a `dict`: {'g': 2, 'o': 2, 'l': 1, 'e': 1} and then you should add some code to display some summary statistics about some data that you bring in!\n",
    "\n",
    "There are many tutorials on the web that can show you how to use the Python data structures. Quite a few examples at: https://docs.python.org/3/tutorial/datastructures.html\n",
    "\n",
    "If you have any trouble with this at all (and we are sure at least some of you will), don't worry and stop by our office hours.\n",
    "\n",
    "You should edit the function definition below, make sure to press 'Shift + Enter' to execute it, and then execute the two function calls to check that the output is correct."
   ]
  },
  {
   "cell_type": "code",
   "execution_count": 52,
   "metadata": {},
   "outputs": [],
   "source": [
    "def character_frequency(s):\n",
    "    ret = dict()\n",
    "    for i in s:\n",
    "        if i in [' ', '.', ',','!']:\n",
    "            continue\n",
    "        if i in ret:\n",
    "            ret[i] += 1\n",
    "        else:\n",
    "            ret[i] = 1\n",
    "    return ret"
   ]
  },
  {
   "cell_type": "code",
   "execution_count": 53,
   "metadata": {},
   "outputs": [
    {
     "data": {
      "text/plain": [
       "{'g': 2, 'o': 2, 'l': 1, 'e': 1}"
      ]
     },
     "execution_count": 53,
     "metadata": {},
     "output_type": "execute_result"
    }
   ],
   "source": [
    "character_frequency('google')"
   ]
  },
  {
   "cell_type": "code",
   "execution_count": 54,
   "metadata": {},
   "outputs": [
    {
     "data": {
      "text/plain": [
       "{'T': 1,\n",
       " 'h': 2,\n",
       " 'i': 6,\n",
       " 's': 7,\n",
       " 'a': 5,\n",
       " 'g': 1,\n",
       " 'n': 6,\n",
       " 'm': 2,\n",
       " 'e': 10,\n",
       " 't': 10,\n",
       " 'd': 4,\n",
       " 'o': 6,\n",
       " 'u': 4,\n",
       " 'r': 3,\n",
       " 'y': 2,\n",
       " 'b': 3,\n",
       " 'l': 1,\n",
       " 'J': 1,\n",
       " 'p': 1,\n",
       " 'N': 1,\n",
       " 'k': 1}"
      ]
     },
     "execution_count": 54,
     "metadata": {},
     "output_type": "execute_result"
    }
   ],
   "source": [
    "character_frequency('This assignment is intended to ensure that you are able to edit and submit Jupyter Notebooks.')"
   ]
  },
  {
   "cell_type": "markdown",
   "metadata": {},
   "source": [
    "Now in the cell below you should create two string variables and inside them put a different quotes (at least 10 words long) from a favorite book, movie, tv show, or any other media."
   ]
  },
  {
   "cell_type": "code",
   "execution_count": 55,
   "metadata": {},
   "outputs": [],
   "source": [
    "dodgeball = \"If you can dodge a wrench, you can dodge a ball!\"\n",
    "princess_bride = \"Hello. My name is Inigo Montoya. You killed my father. Prepare to die.\""
   ]
  },
  {
   "cell_type": "markdown",
   "metadata": {},
   "source": [
    "For each of the above quotes add code below to print out the character frequency and then give a set of summary statistics for each one, specifically the letter(s) that occur the fewest number of times in each string, the letter(s) that occur the most times in each string, and the average count over both strings for all the letters. You should display this data neatly."
   ]
  },
  {
   "cell_type": "code",
   "execution_count": 56,
   "metadata": {},
   "outputs": [
    {
     "name": "stdout",
     "output_type": "stream",
     "text": [
      "Character frequency: \n",
      "{'I': 1, 'f': 1, 'y': 2, 'o': 4, 'u': 2, 'c': 3, 'a': 5, 'n': 3, 'd': 4, 'g': 2, 'e': 3, 'w': 1, 'r': 1, 'h': 1, 'b': 1, 'l': 2}\n",
      "{'H': 1, 'e': 7, 'l': 4, 'o': 6, 'M': 2, 'y': 3, 'n': 3, 'a': 4, 'm': 2, 'i': 4, 's': 1, 'I': 1, 'g': 1, 't': 3, 'Y': 1, 'u': 1, 'k': 1, 'd': 2, 'f': 1, 'h': 1, 'r': 3, 'P': 1, 'p': 1}\n"
     ]
    }
   ],
   "source": [
    "dodgeball_freq = character_frequency(dodgeball)\n",
    "pb_freq = character_frequency(princess_bride)\n",
    "print(\"Character frequency: \")\n",
    "print(dodgeball_freq)\n",
    "print(pb_freq)"
   ]
  },
  {
   "cell_type": "code",
   "execution_count": 57,
   "metadata": {},
   "outputs": [
    {
     "name": "stdout",
     "output_type": "stream",
     "text": [
      "Characters w/ lowest frequency: \n",
      "['I', 'f', 'w', 'r', 'h', 'b']\n",
      "['H', 's', 'I', 'g', 'Y', 'u', 'k', 'f', 'h', 'P', 'p']\n",
      "\n",
      "Characters w/ highest frequency: \n",
      "['a']\n",
      "['e']\n"
     ]
    }
   ],
   "source": [
    "def fewest_letters(freq):\n",
    "    smallest_val = min(freq.values())\n",
    "    smallest_let = []\n",
    "    for i in freq:\n",
    "        if freq[i] == smallest_val:\n",
    "            smallest_let.append(i)\n",
    "    return smallest_let\n",
    "\n",
    "def most_letters(freq):\n",
    "    max_val = max(freq.values())\n",
    "    most_let = []\n",
    "    for i in freq:\n",
    "        if freq[i] == max_val:\n",
    "            most_let.append(i)\n",
    "    return most_let\n",
    "\n",
    "print(\"Characters w/ lowest frequency: \")\n",
    "print(fewest_letters(dodgeball_freq))\n",
    "print(fewest_letters(pb_freq))\n",
    "\n",
    "print(\"\\nCharacters w/ highest frequency: \")\n",
    "print(most_letters(dodgeball_freq))\n",
    "print(most_letters(pb_freq))"
   ]
  },
  {
   "cell_type": "code",
   "execution_count": 58,
   "metadata": {},
   "outputs": [
    {
     "name": "stdout",
     "output_type": "stream",
     "text": [
      "Average frequency: \n",
      "{'I': 1.0, 'f': 1.0, 'y': 2.5, 'o': 5.0, 'u': 1.5, 'c': 1.5, 'a': 4.5, 'n': 3.0, 'd': 3.0, 'g': 1.5, 'e': 5.0, 'w': 0.5, 'r': 2.0, 'h': 1.0, 'b': 0.5, 'l': 3.0, 'H': 0.5, 'M': 1.0, 'm': 1.0, 'i': 2.0, 's': 0.5, 't': 1.5, 'Y': 0.5, 'k': 0.5, 'P': 0.5, 'p': 0.5}\n"
     ]
    }
   ],
   "source": [
    "def avg_freq(f1,f2):\n",
    "    avg = dict()\n",
    "    for i in f1:\n",
    "        if i in f2:\n",
    "            avg[i] = (f1[i] + f2[i]) / 2\n",
    "        else:\n",
    "            avg[i] = f1[i] / 2\n",
    "    for j in f2:\n",
    "        if j not in f1:\n",
    "            avg[j] = f2[j] / 2\n",
    "    return avg\n",
    "\n",
    "print(\"Average frequency: \")\n",
    "print(avg_freq(dodgeball_freq, pb_freq))"
   ]
  },
  {
   "cell_type": "code",
   "execution_count": null,
   "metadata": {},
   "outputs": [],
   "source": []
  },
  {
   "cell_type": "code",
   "execution_count": null,
   "metadata": {},
   "outputs": [],
   "source": []
  }
 ],
 "metadata": {
  "kernelspec": {
   "display_name": "Python 3 (ipykernel)",
   "language": "python",
   "name": "python3"
  },
  "language_info": {
   "codemirror_mode": {
    "name": "ipython",
    "version": 3
   },
   "file_extension": ".py",
   "mimetype": "text/x-python",
   "name": "python",
   "nbconvert_exporter": "python",
   "pygments_lexer": "ipython3",
   "version": "3.9.6"
  }
 },
 "nbformat": 4,
 "nbformat_minor": 2
}
