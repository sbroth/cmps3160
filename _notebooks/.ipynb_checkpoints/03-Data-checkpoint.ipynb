{
 "cells": [
  {
   "cell_type": "markdown",
   "metadata": {},
   "source": [
    "# Intro to Pandas, Reading Data, and Plotting\n",
    "\n",
    "The cell below loads up a few libraries and does some initialization.  In this notebook we'll do a few basic data manipulations and see the Pandas formatting for the first time and make some simple graphs.\n"
   ]
  },
  {
   "cell_type": "code",
   "execution_count": 1,
   "metadata": {},
   "outputs": [
    {
     "data": {
      "text/html": [
       "<style>.container { width:95% !important; }</style>"
      ],
      "text/plain": [
       "<IPython.core.display.HTML object>"
      ]
     },
     "metadata": {},
     "output_type": "display_data"
    }
   ],
   "source": [
    "### Standard Magic and startup initializers.\n",
    "\n",
    "# Load Numpy\n",
    "import numpy as np\n",
    "# Load MatPlotLib\n",
    "import matplotlib\n",
    "import matplotlib.pyplot as plt\n",
    "# Load Pandas\n",
    "import pandas as pd\n",
    "\n",
    "# This lets us show plots inline and also save PDF plots if we want them\n",
    "%matplotlib inline\n",
    "from matplotlib.backends.backend_pdf import PdfPages\n",
    "matplotlib.style.use('fivethirtyeight')\n",
    "# Seaborn is a plotting package for Pandas that we'll try out...\n",
    "import seaborn as sns\n",
    "\n",
    "# Make the fonts a little bigger..\n",
    "font = {'size'   : 20}\n",
    "matplotlib.rc('font', **font)\n",
    "matplotlib.rcParams['mathtext.fontset'] = 'cm'\n",
    "matplotlib.rcParams['pdf.fonttype'] = 42\n",
    "\n",
    "# These two things are for Pandas, it widens the notebook and lets us display data easily.\n",
    "from IPython.core.display import display, HTML\n",
    "display(HTML(\"<style>.container { width:95% !important; }</style>\"))"
   ]
  },
  {
   "cell_type": "markdown",
   "metadata": {},
   "source": [
    "## Working with some real data and Pandas!\n",
    "\n",
    "Opening and reading CSV files is very easy with Pandas [Read CSV Documentation](https://pandas.pydata.org/pandas-docs/stable/reference/api/pandas.read_csv.html)"
   ]
  },
  {
   "cell_type": "code",
   "execution_count": 2,
   "metadata": {},
   "outputs": [],
   "source": [
    "# Open the NBA Salaries file.\n",
    "\n",
    "df_nba = pd.read_csv(\"./data/nba_salaries.csv\")"
   ]
  },
  {
   "cell_type": "code",
   "execution_count": 3,
   "metadata": {},
   "outputs": [
    {
     "data": {
      "text/html": [
       "<div>\n",
       "<style scoped>\n",
       "    .dataframe tbody tr th:only-of-type {\n",
       "        vertical-align: middle;\n",
       "    }\n",
       "\n",
       "    .dataframe tbody tr th {\n",
       "        vertical-align: top;\n",
       "    }\n",
       "\n",
       "    .dataframe thead th {\n",
       "        text-align: right;\n",
       "    }\n",
       "</style>\n",
       "<table border=\"1\" class=\"dataframe\">\n",
       "  <thead>\n",
       "    <tr style=\"text-align: right;\">\n",
       "      <th></th>\n",
       "      <th>PLAYER</th>\n",
       "      <th>POSITION</th>\n",
       "      <th>TEAM</th>\n",
       "      <th>'15-'16 SALARY</th>\n",
       "    </tr>\n",
       "  </thead>\n",
       "  <tbody>\n",
       "    <tr>\n",
       "      <th>0</th>\n",
       "      <td>Paul Millsap</td>\n",
       "      <td>PF</td>\n",
       "      <td>Atlanta Hawks</td>\n",
       "      <td>18.671659</td>\n",
       "    </tr>\n",
       "    <tr>\n",
       "      <th>1</th>\n",
       "      <td>Al Horford</td>\n",
       "      <td>C</td>\n",
       "      <td>Atlanta Hawks</td>\n",
       "      <td>12.000000</td>\n",
       "    </tr>\n",
       "    <tr>\n",
       "      <th>2</th>\n",
       "      <td>Tiago Splitter</td>\n",
       "      <td>C</td>\n",
       "      <td>Atlanta Hawks</td>\n",
       "      <td>9.756250</td>\n",
       "    </tr>\n",
       "    <tr>\n",
       "      <th>3</th>\n",
       "      <td>Jeff Teague</td>\n",
       "      <td>PG</td>\n",
       "      <td>Atlanta Hawks</td>\n",
       "      <td>8.000000</td>\n",
       "    </tr>\n",
       "    <tr>\n",
       "      <th>4</th>\n",
       "      <td>Kyle Korver</td>\n",
       "      <td>SG</td>\n",
       "      <td>Atlanta Hawks</td>\n",
       "      <td>5.746479</td>\n",
       "    </tr>\n",
       "    <tr>\n",
       "      <th>...</th>\n",
       "      <td>...</td>\n",
       "      <td>...</td>\n",
       "      <td>...</td>\n",
       "      <td>...</td>\n",
       "    </tr>\n",
       "    <tr>\n",
       "      <th>412</th>\n",
       "      <td>Gary Neal</td>\n",
       "      <td>PG</td>\n",
       "      <td>Washington Wizards</td>\n",
       "      <td>2.139000</td>\n",
       "    </tr>\n",
       "    <tr>\n",
       "      <th>413</th>\n",
       "      <td>DeJuan Blair</td>\n",
       "      <td>C</td>\n",
       "      <td>Washington Wizards</td>\n",
       "      <td>2.000000</td>\n",
       "    </tr>\n",
       "    <tr>\n",
       "      <th>414</th>\n",
       "      <td>Kelly Oubre Jr.</td>\n",
       "      <td>SF</td>\n",
       "      <td>Washington Wizards</td>\n",
       "      <td>1.920240</td>\n",
       "    </tr>\n",
       "    <tr>\n",
       "      <th>415</th>\n",
       "      <td>Garrett Temple</td>\n",
       "      <td>SG</td>\n",
       "      <td>Washington Wizards</td>\n",
       "      <td>1.100602</td>\n",
       "    </tr>\n",
       "    <tr>\n",
       "      <th>416</th>\n",
       "      <td>Jarell Eddie</td>\n",
       "      <td>SG</td>\n",
       "      <td>Washington Wizards</td>\n",
       "      <td>0.561716</td>\n",
       "    </tr>\n",
       "  </tbody>\n",
       "</table>\n",
       "<p>417 rows × 4 columns</p>\n",
       "</div>"
      ],
      "text/plain": [
       "              PLAYER POSITION                TEAM  '15-'16 SALARY\n",
       "0       Paul Millsap       PF       Atlanta Hawks       18.671659\n",
       "1         Al Horford        C       Atlanta Hawks       12.000000\n",
       "2     Tiago Splitter        C       Atlanta Hawks        9.756250\n",
       "3        Jeff Teague       PG       Atlanta Hawks        8.000000\n",
       "4        Kyle Korver       SG       Atlanta Hawks        5.746479\n",
       "..               ...      ...                 ...             ...\n",
       "412        Gary Neal       PG  Washington Wizards        2.139000\n",
       "413     DeJuan Blair        C  Washington Wizards        2.000000\n",
       "414  Kelly Oubre Jr.       SF  Washington Wizards        1.920240\n",
       "415   Garrett Temple       SG  Washington Wizards        1.100602\n",
       "416     Jarell Eddie       SG  Washington Wizards        0.561716\n",
       "\n",
       "[417 rows x 4 columns]"
      ]
     },
     "metadata": {},
     "output_type": "display_data"
    }
   ],
   "source": [
    "# Display gives us a basic table.  Note that we can index and slice this in many different ways.\n",
    "display(df_nba)"
   ]
  },
  {
   "cell_type": "code",
   "execution_count": 4,
   "metadata": {},
   "outputs": [
    {
     "data": {
      "text/html": [
       "<div>\n",
       "<style scoped>\n",
       "    .dataframe tbody tr th:only-of-type {\n",
       "        vertical-align: middle;\n",
       "    }\n",
       "\n",
       "    .dataframe tbody tr th {\n",
       "        vertical-align: top;\n",
       "    }\n",
       "\n",
       "    .dataframe thead th {\n",
       "        text-align: right;\n",
       "    }\n",
       "</style>\n",
       "<table border=\"1\" class=\"dataframe\">\n",
       "  <thead>\n",
       "    <tr style=\"text-align: right;\">\n",
       "      <th></th>\n",
       "      <th>PLAYER</th>\n",
       "      <th>POSITION</th>\n",
       "      <th>TEAM</th>\n",
       "      <th>'15-'16 SALARY</th>\n",
       "    </tr>\n",
       "  </thead>\n",
       "  <tbody>\n",
       "    <tr>\n",
       "      <th>121</th>\n",
       "      <td>Stephen Curry</td>\n",
       "      <td>PG</td>\n",
       "      <td>Golden State Warriors</td>\n",
       "      <td>11.370786</td>\n",
       "    </tr>\n",
       "  </tbody>\n",
       "</table>\n",
       "</div>"
      ],
      "text/plain": [
       "            PLAYER POSITION                   TEAM  '15-'16 SALARY\n",
       "121  Stephen Curry       PG  Golden State Warriors       11.370786"
      ]
     },
     "execution_count": 4,
     "metadata": {},
     "output_type": "execute_result"
    }
   ],
   "source": [
    "# Look at a specific person... a little clunky.\n",
    "df_nba.loc[df_nba['PLAYER'] == \"Stephen Curry\"]"
   ]
  },
  {
   "cell_type": "code",
   "execution_count": null,
   "metadata": {},
   "outputs": [],
   "source": []
  },
  {
   "cell_type": "code",
   "execution_count": 5,
   "metadata": {},
   "outputs": [
    {
     "data": {
      "text/html": [
       "<div>\n",
       "<style scoped>\n",
       "    .dataframe tbody tr th:only-of-type {\n",
       "        vertical-align: middle;\n",
       "    }\n",
       "\n",
       "    .dataframe tbody tr th {\n",
       "        vertical-align: top;\n",
       "    }\n",
       "\n",
       "    .dataframe thead th {\n",
       "        text-align: right;\n",
       "    }\n",
       "</style>\n",
       "<table border=\"1\" class=\"dataframe\">\n",
       "  <thead>\n",
       "    <tr style=\"text-align: right;\">\n",
       "      <th></th>\n",
       "      <th>PLAYER</th>\n",
       "      <th>POSITION</th>\n",
       "      <th>TEAM</th>\n",
       "      <th>'15-'16 SALARY</th>\n",
       "    </tr>\n",
       "  </thead>\n",
       "  <tbody>\n",
       "    <tr>\n",
       "      <th>3</th>\n",
       "      <td>Jeff Teague</td>\n",
       "      <td>PG</td>\n",
       "      <td>Atlanta Hawks</td>\n",
       "      <td>8.000000</td>\n",
       "    </tr>\n",
       "    <tr>\n",
       "      <th>8</th>\n",
       "      <td>Dennis Schroder</td>\n",
       "      <td>PG</td>\n",
       "      <td>Atlanta Hawks</td>\n",
       "      <td>1.763400</td>\n",
       "    </tr>\n",
       "    <tr>\n",
       "      <th>14</th>\n",
       "      <td>Avery Bradley</td>\n",
       "      <td>PG</td>\n",
       "      <td>Boston Celtics</td>\n",
       "      <td>7.730337</td>\n",
       "    </tr>\n",
       "    <tr>\n",
       "      <th>15</th>\n",
       "      <td>Isaiah Thomas</td>\n",
       "      <td>PG</td>\n",
       "      <td>Boston Celtics</td>\n",
       "      <td>6.912869</td>\n",
       "    </tr>\n",
       "    <tr>\n",
       "      <th>18</th>\n",
       "      <td>Marcus Smart</td>\n",
       "      <td>PG</td>\n",
       "      <td>Boston Celtics</td>\n",
       "      <td>3.431040</td>\n",
       "    </tr>\n",
       "    <tr>\n",
       "      <th>24</th>\n",
       "      <td>Terry Rozier</td>\n",
       "      <td>PG</td>\n",
       "      <td>Boston Celtics</td>\n",
       "      <td>1.824360</td>\n",
       "    </tr>\n",
       "    <tr>\n",
       "      <th>31</th>\n",
       "      <td>Jarrett Jack</td>\n",
       "      <td>PG</td>\n",
       "      <td>Brooklyn Nets</td>\n",
       "      <td>6.300000</td>\n",
       "    </tr>\n",
       "    <tr>\n",
       "      <th>35</th>\n",
       "      <td>Shane Larkin</td>\n",
       "      <td>PG</td>\n",
       "      <td>Brooklyn Nets</td>\n",
       "      <td>1.500000</td>\n",
       "    </tr>\n",
       "    <tr>\n",
       "      <th>44</th>\n",
       "      <td>Kemba Walker</td>\n",
       "      <td>PG</td>\n",
       "      <td>Charlotte Hornets</td>\n",
       "      <td>12.000000</td>\n",
       "    </tr>\n",
       "    <tr>\n",
       "      <th>51</th>\n",
       "      <td>Brian Roberts</td>\n",
       "      <td>PG</td>\n",
       "      <td>Charlotte Hornets</td>\n",
       "      <td>2.854940</td>\n",
       "    </tr>\n",
       "  </tbody>\n",
       "</table>\n",
       "</div>"
      ],
      "text/plain": [
       "             PLAYER POSITION               TEAM  '15-'16 SALARY\n",
       "3       Jeff Teague       PG      Atlanta Hawks        8.000000\n",
       "8   Dennis Schroder       PG      Atlanta Hawks        1.763400\n",
       "14    Avery Bradley       PG     Boston Celtics        7.730337\n",
       "15    Isaiah Thomas       PG     Boston Celtics        6.912869\n",
       "18     Marcus Smart       PG     Boston Celtics        3.431040\n",
       "24     Terry Rozier       PG     Boston Celtics        1.824360\n",
       "31     Jarrett Jack       PG      Brooklyn Nets        6.300000\n",
       "35     Shane Larkin       PG      Brooklyn Nets        1.500000\n",
       "44     Kemba Walker       PG  Charlotte Hornets       12.000000\n",
       "51    Brian Roberts       PG  Charlotte Hornets        2.854940"
      ]
     },
     "execution_count": 5,
     "metadata": {},
     "output_type": "execute_result"
    }
   ],
   "source": [
    "# Can filter for a whole set\n",
    "df_nba.loc[df_nba['POSITION'] == \"PG\"][:10]\n",
    "\n",
    "# Again note that we can slice this different ways.."
   ]
  },
  {
   "cell_type": "code",
   "execution_count": 6,
   "metadata": {},
   "outputs": [
    {
     "data": {
      "text/html": [
       "<div>\n",
       "<style scoped>\n",
       "    .dataframe tbody tr th:only-of-type {\n",
       "        vertical-align: middle;\n",
       "    }\n",
       "\n",
       "    .dataframe tbody tr th {\n",
       "        vertical-align: top;\n",
       "    }\n",
       "\n",
       "    .dataframe thead th {\n",
       "        text-align: right;\n",
       "    }\n",
       "</style>\n",
       "<table border=\"1\" class=\"dataframe\">\n",
       "  <thead>\n",
       "    <tr style=\"text-align: right;\">\n",
       "      <th></th>\n",
       "      <th>PLAYER</th>\n",
       "      <th>POSITION</th>\n",
       "      <th>TEAM</th>\n",
       "      <th>'15-'16 SALARY</th>\n",
       "    </tr>\n",
       "  </thead>\n",
       "  <tbody>\n",
       "    <tr>\n",
       "      <th>239</th>\n",
       "      <td>Eric Gordon</td>\n",
       "      <td>SG</td>\n",
       "      <td>New Orleans Pelicans</td>\n",
       "      <td>15.514031</td>\n",
       "    </tr>\n",
       "    <tr>\n",
       "      <th>240</th>\n",
       "      <td>Tyreke Evans</td>\n",
       "      <td>SG</td>\n",
       "      <td>New Orleans Pelicans</td>\n",
       "      <td>10.734586</td>\n",
       "    </tr>\n",
       "    <tr>\n",
       "      <th>241</th>\n",
       "      <td>Jrue Holiday</td>\n",
       "      <td>PG</td>\n",
       "      <td>New Orleans Pelicans</td>\n",
       "      <td>10.595507</td>\n",
       "    </tr>\n",
       "    <tr>\n",
       "      <th>242</th>\n",
       "      <td>Omer Asik</td>\n",
       "      <td>C</td>\n",
       "      <td>New Orleans Pelicans</td>\n",
       "      <td>9.213483</td>\n",
       "    </tr>\n",
       "    <tr>\n",
       "      <th>243</th>\n",
       "      <td>Ryan Anderson</td>\n",
       "      <td>PF</td>\n",
       "      <td>New Orleans Pelicans</td>\n",
       "      <td>8.500000</td>\n",
       "    </tr>\n",
       "    <tr>\n",
       "      <th>244</th>\n",
       "      <td>Anthony Davis</td>\n",
       "      <td>PF</td>\n",
       "      <td>New Orleans Pelicans</td>\n",
       "      <td>7.070730</td>\n",
       "    </tr>\n",
       "    <tr>\n",
       "      <th>245</th>\n",
       "      <td>Alexis Ajinca</td>\n",
       "      <td>C</td>\n",
       "      <td>New Orleans Pelicans</td>\n",
       "      <td>4.389607</td>\n",
       "    </tr>\n",
       "    <tr>\n",
       "      <th>246</th>\n",
       "      <td>Quincy Pondexter</td>\n",
       "      <td>SF</td>\n",
       "      <td>New Orleans Pelicans</td>\n",
       "      <td>3.382023</td>\n",
       "    </tr>\n",
       "    <tr>\n",
       "      <th>247</th>\n",
       "      <td>Norris Cole</td>\n",
       "      <td>PG</td>\n",
       "      <td>New Orleans Pelicans</td>\n",
       "      <td>3.036927</td>\n",
       "    </tr>\n",
       "    <tr>\n",
       "      <th>248</th>\n",
       "      <td>Dante Cunningham</td>\n",
       "      <td>PF</td>\n",
       "      <td>New Orleans Pelicans</td>\n",
       "      <td>2.850000</td>\n",
       "    </tr>\n",
       "    <tr>\n",
       "      <th>249</th>\n",
       "      <td>Alonzo Gee</td>\n",
       "      <td>SF</td>\n",
       "      <td>New Orleans Pelicans</td>\n",
       "      <td>1.320000</td>\n",
       "    </tr>\n",
       "    <tr>\n",
       "      <th>250</th>\n",
       "      <td>Toney Douglas</td>\n",
       "      <td>PG</td>\n",
       "      <td>New Orleans Pelicans</td>\n",
       "      <td>1.164858</td>\n",
       "    </tr>\n",
       "    <tr>\n",
       "      <th>251</th>\n",
       "      <td>Luke Babbitt</td>\n",
       "      <td>SF</td>\n",
       "      <td>New Orleans Pelicans</td>\n",
       "      <td>1.100602</td>\n",
       "    </tr>\n",
       "    <tr>\n",
       "      <th>252</th>\n",
       "      <td>Kendrick Perkins</td>\n",
       "      <td>C</td>\n",
       "      <td>New Orleans Pelicans</td>\n",
       "      <td>0.947276</td>\n",
       "    </tr>\n",
       "    <tr>\n",
       "      <th>253</th>\n",
       "      <td>Bo McCalebb</td>\n",
       "      <td>PG</td>\n",
       "      <td>New Orleans Pelicans</td>\n",
       "      <td>0.525093</td>\n",
       "    </tr>\n",
       "    <tr>\n",
       "      <th>254</th>\n",
       "      <td>Bryce Dejean-Jones</td>\n",
       "      <td>SG</td>\n",
       "      <td>New Orleans Pelicans</td>\n",
       "      <td>0.169883</td>\n",
       "    </tr>\n",
       "  </tbody>\n",
       "</table>\n",
       "</div>"
      ],
      "text/plain": [
       "                 PLAYER POSITION                  TEAM  '15-'16 SALARY\n",
       "239         Eric Gordon       SG  New Orleans Pelicans       15.514031\n",
       "240        Tyreke Evans       SG  New Orleans Pelicans       10.734586\n",
       "241        Jrue Holiday       PG  New Orleans Pelicans       10.595507\n",
       "242           Omer Asik        C  New Orleans Pelicans        9.213483\n",
       "243       Ryan Anderson       PF  New Orleans Pelicans        8.500000\n",
       "244       Anthony Davis       PF  New Orleans Pelicans        7.070730\n",
       "245       Alexis Ajinca        C  New Orleans Pelicans        4.389607\n",
       "246    Quincy Pondexter       SF  New Orleans Pelicans        3.382023\n",
       "247         Norris Cole       PG  New Orleans Pelicans        3.036927\n",
       "248    Dante Cunningham       PF  New Orleans Pelicans        2.850000\n",
       "249          Alonzo Gee       SF  New Orleans Pelicans        1.320000\n",
       "250       Toney Douglas       PG  New Orleans Pelicans        1.164858\n",
       "251        Luke Babbitt       SF  New Orleans Pelicans        1.100602\n",
       "252    Kendrick Perkins        C  New Orleans Pelicans        0.947276\n",
       "253         Bo McCalebb       PG  New Orleans Pelicans        0.525093\n",
       "254  Bryce Dejean-Jones       SG  New Orleans Pelicans        0.169883"
      ]
     },
     "execution_count": 6,
     "metadata": {},
     "output_type": "execute_result"
    }
   ],
   "source": [
    "# Can also see a team...\n",
    "df_nba.loc[df_nba['TEAM'] == \"New Orleans Pelicans\"]"
   ]
  },
  {
   "cell_type": "code",
   "execution_count": 7,
   "metadata": {},
   "outputs": [
    {
     "data": {
      "text/html": [
       "<div>\n",
       "<style scoped>\n",
       "    .dataframe tbody tr th:only-of-type {\n",
       "        vertical-align: middle;\n",
       "    }\n",
       "\n",
       "    .dataframe tbody tr th {\n",
       "        vertical-align: top;\n",
       "    }\n",
       "\n",
       "    .dataframe thead th {\n",
       "        text-align: right;\n",
       "    }\n",
       "</style>\n",
       "<table border=\"1\" class=\"dataframe\">\n",
       "  <thead>\n",
       "    <tr style=\"text-align: right;\">\n",
       "      <th></th>\n",
       "      <th>PLAYER</th>\n",
       "      <th>POSITION</th>\n",
       "      <th>TEAM</th>\n",
       "      <th>'15-'16 SALARY</th>\n",
       "    </tr>\n",
       "  </thead>\n",
       "  <tbody>\n",
       "    <tr>\n",
       "      <th>239</th>\n",
       "      <td>Eric Gordon</td>\n",
       "      <td>SG</td>\n",
       "      <td>New Orleans Pelicans</td>\n",
       "      <td>15.514031</td>\n",
       "    </tr>\n",
       "    <tr>\n",
       "      <th>240</th>\n",
       "      <td>Tyreke Evans</td>\n",
       "      <td>SG</td>\n",
       "      <td>New Orleans Pelicans</td>\n",
       "      <td>10.734586</td>\n",
       "    </tr>\n",
       "    <tr>\n",
       "      <th>241</th>\n",
       "      <td>Jrue Holiday</td>\n",
       "      <td>PG</td>\n",
       "      <td>New Orleans Pelicans</td>\n",
       "      <td>10.595507</td>\n",
       "    </tr>\n",
       "    <tr>\n",
       "      <th>242</th>\n",
       "      <td>Omer Asik</td>\n",
       "      <td>C</td>\n",
       "      <td>New Orleans Pelicans</td>\n",
       "      <td>9.213483</td>\n",
       "    </tr>\n",
       "    <tr>\n",
       "      <th>243</th>\n",
       "      <td>Ryan Anderson</td>\n",
       "      <td>PF</td>\n",
       "      <td>New Orleans Pelicans</td>\n",
       "      <td>8.500000</td>\n",
       "    </tr>\n",
       "    <tr>\n",
       "      <th>244</th>\n",
       "      <td>Anthony Davis</td>\n",
       "      <td>PF</td>\n",
       "      <td>New Orleans Pelicans</td>\n",
       "      <td>7.070730</td>\n",
       "    </tr>\n",
       "    <tr>\n",
       "      <th>245</th>\n",
       "      <td>Alexis Ajinca</td>\n",
       "      <td>C</td>\n",
       "      <td>New Orleans Pelicans</td>\n",
       "      <td>4.389607</td>\n",
       "    </tr>\n",
       "    <tr>\n",
       "      <th>246</th>\n",
       "      <td>Quincy Pondexter</td>\n",
       "      <td>SF</td>\n",
       "      <td>New Orleans Pelicans</td>\n",
       "      <td>3.382023</td>\n",
       "    </tr>\n",
       "    <tr>\n",
       "      <th>247</th>\n",
       "      <td>Norris Cole</td>\n",
       "      <td>PG</td>\n",
       "      <td>New Orleans Pelicans</td>\n",
       "      <td>3.036927</td>\n",
       "    </tr>\n",
       "    <tr>\n",
       "      <th>248</th>\n",
       "      <td>Dante Cunningham</td>\n",
       "      <td>PF</td>\n",
       "      <td>New Orleans Pelicans</td>\n",
       "      <td>2.850000</td>\n",
       "    </tr>\n",
       "    <tr>\n",
       "      <th>249</th>\n",
       "      <td>Alonzo Gee</td>\n",
       "      <td>SF</td>\n",
       "      <td>New Orleans Pelicans</td>\n",
       "      <td>1.320000</td>\n",
       "    </tr>\n",
       "    <tr>\n",
       "      <th>250</th>\n",
       "      <td>Toney Douglas</td>\n",
       "      <td>PG</td>\n",
       "      <td>New Orleans Pelicans</td>\n",
       "      <td>1.164858</td>\n",
       "    </tr>\n",
       "    <tr>\n",
       "      <th>251</th>\n",
       "      <td>Luke Babbitt</td>\n",
       "      <td>SF</td>\n",
       "      <td>New Orleans Pelicans</td>\n",
       "      <td>1.100602</td>\n",
       "    </tr>\n",
       "    <tr>\n",
       "      <th>252</th>\n",
       "      <td>Kendrick Perkins</td>\n",
       "      <td>C</td>\n",
       "      <td>New Orleans Pelicans</td>\n",
       "      <td>0.947276</td>\n",
       "    </tr>\n",
       "    <tr>\n",
       "      <th>253</th>\n",
       "      <td>Bo McCalebb</td>\n",
       "      <td>PG</td>\n",
       "      <td>New Orleans Pelicans</td>\n",
       "      <td>0.525093</td>\n",
       "    </tr>\n",
       "    <tr>\n",
       "      <th>254</th>\n",
       "      <td>Bryce Dejean-Jones</td>\n",
       "      <td>SG</td>\n",
       "      <td>New Orleans Pelicans</td>\n",
       "      <td>0.169883</td>\n",
       "    </tr>\n",
       "  </tbody>\n",
       "</table>\n",
       "</div>"
      ],
      "text/plain": [
       "                 PLAYER POSITION                  TEAM  '15-'16 SALARY\n",
       "239         Eric Gordon       SG  New Orleans Pelicans       15.514031\n",
       "240        Tyreke Evans       SG  New Orleans Pelicans       10.734586\n",
       "241        Jrue Holiday       PG  New Orleans Pelicans       10.595507\n",
       "242           Omer Asik        C  New Orleans Pelicans        9.213483\n",
       "243       Ryan Anderson       PF  New Orleans Pelicans        8.500000\n",
       "244       Anthony Davis       PF  New Orleans Pelicans        7.070730\n",
       "245       Alexis Ajinca        C  New Orleans Pelicans        4.389607\n",
       "246    Quincy Pondexter       SF  New Orleans Pelicans        3.382023\n",
       "247         Norris Cole       PG  New Orleans Pelicans        3.036927\n",
       "248    Dante Cunningham       PF  New Orleans Pelicans        2.850000\n",
       "249          Alonzo Gee       SF  New Orleans Pelicans        1.320000\n",
       "250       Toney Douglas       PG  New Orleans Pelicans        1.164858\n",
       "251        Luke Babbitt       SF  New Orleans Pelicans        1.100602\n",
       "252    Kendrick Perkins        C  New Orleans Pelicans        0.947276\n",
       "253         Bo McCalebb       PG  New Orleans Pelicans        0.525093\n",
       "254  Bryce Dejean-Jones       SG  New Orleans Pelicans        0.169883"
      ]
     },
     "execution_count": 7,
     "metadata": {},
     "output_type": "execute_result"
    }
   ],
   "source": [
    "# There are other ways to index, but I always use the full selection as it's more explicit.\n",
    "df_nba.loc[df_nba.TEAM == \"New Orleans Pelicans\"]"
   ]
  },
  {
   "cell_type": "code",
   "execution_count": 8,
   "metadata": {},
   "outputs": [
    {
     "data": {
      "text/html": [
       "<div>\n",
       "<style scoped>\n",
       "    .dataframe tbody tr th:only-of-type {\n",
       "        vertical-align: middle;\n",
       "    }\n",
       "\n",
       "    .dataframe tbody tr th {\n",
       "        vertical-align: top;\n",
       "    }\n",
       "\n",
       "    .dataframe thead th {\n",
       "        text-align: right;\n",
       "    }\n",
       "</style>\n",
       "<table border=\"1\" class=\"dataframe\">\n",
       "  <thead>\n",
       "    <tr style=\"text-align: right;\">\n",
       "      <th></th>\n",
       "      <th>PLAYER</th>\n",
       "      <th>TEAM</th>\n",
       "    </tr>\n",
       "  </thead>\n",
       "  <tbody>\n",
       "    <tr>\n",
       "      <th>0</th>\n",
       "      <td>Paul Millsap</td>\n",
       "      <td>Atlanta Hawks</td>\n",
       "    </tr>\n",
       "    <tr>\n",
       "      <th>1</th>\n",
       "      <td>Al Horford</td>\n",
       "      <td>Atlanta Hawks</td>\n",
       "    </tr>\n",
       "    <tr>\n",
       "      <th>2</th>\n",
       "      <td>Tiago Splitter</td>\n",
       "      <td>Atlanta Hawks</td>\n",
       "    </tr>\n",
       "    <tr>\n",
       "      <th>3</th>\n",
       "      <td>Jeff Teague</td>\n",
       "      <td>Atlanta Hawks</td>\n",
       "    </tr>\n",
       "    <tr>\n",
       "      <th>4</th>\n",
       "      <td>Kyle Korver</td>\n",
       "      <td>Atlanta Hawks</td>\n",
       "    </tr>\n",
       "    <tr>\n",
       "      <th>...</th>\n",
       "      <td>...</td>\n",
       "      <td>...</td>\n",
       "    </tr>\n",
       "    <tr>\n",
       "      <th>412</th>\n",
       "      <td>Gary Neal</td>\n",
       "      <td>Washington Wizards</td>\n",
       "    </tr>\n",
       "    <tr>\n",
       "      <th>413</th>\n",
       "      <td>DeJuan Blair</td>\n",
       "      <td>Washington Wizards</td>\n",
       "    </tr>\n",
       "    <tr>\n",
       "      <th>414</th>\n",
       "      <td>Kelly Oubre Jr.</td>\n",
       "      <td>Washington Wizards</td>\n",
       "    </tr>\n",
       "    <tr>\n",
       "      <th>415</th>\n",
       "      <td>Garrett Temple</td>\n",
       "      <td>Washington Wizards</td>\n",
       "    </tr>\n",
       "    <tr>\n",
       "      <th>416</th>\n",
       "      <td>Jarell Eddie</td>\n",
       "      <td>Washington Wizards</td>\n",
       "    </tr>\n",
       "  </tbody>\n",
       "</table>\n",
       "<p>417 rows × 2 columns</p>\n",
       "</div>"
      ],
      "text/plain": [
       "              PLAYER                TEAM\n",
       "0       Paul Millsap       Atlanta Hawks\n",
       "1         Al Horford       Atlanta Hawks\n",
       "2     Tiago Splitter       Atlanta Hawks\n",
       "3        Jeff Teague       Atlanta Hawks\n",
       "4        Kyle Korver       Atlanta Hawks\n",
       "..               ...                 ...\n",
       "412        Gary Neal  Washington Wizards\n",
       "413     DeJuan Blair  Washington Wizards\n",
       "414  Kelly Oubre Jr.  Washington Wizards\n",
       "415   Garrett Temple  Washington Wizards\n",
       "416     Jarell Eddie  Washington Wizards\n",
       "\n",
       "[417 rows x 2 columns]"
      ]
     },
     "execution_count": 8,
     "metadata": {},
     "output_type": "execute_result"
    }
   ],
   "source": [
    "# Can also just pick out a subset of coumns if we want.\n",
    "df_nba[['PLAYER', 'TEAM']]"
   ]
  },
  {
   "cell_type": "code",
   "execution_count": 9,
   "metadata": {},
   "outputs": [
    {
     "data": {
      "text/plain": [
       "80.51460599999999"
      ]
     },
     "execution_count": 9,
     "metadata": {},
     "output_type": "execute_result"
    }
   ],
   "source": [
    "# Can also compute summary stats over columns, like the mean.. (look at cheat sheet!)\n",
    "# Note the problem with the column name!\n",
    "df_nba.loc[df_nba['TEAM'] == \"New Orleans Pelicans\"][\"'15-'16 SALARY\"].sum()"
   ]
  },
  {
   "cell_type": "code",
   "execution_count": 10,
   "metadata": {},
   "outputs": [
    {
     "data": {
      "text/plain": [
       "3.0"
      ]
     },
     "execution_count": 10,
     "metadata": {},
     "output_type": "execute_result"
    }
   ],
   "source": [
    "df_nba[\"'15-'16 SALARY\"].median()"
   ]
  },
  {
   "cell_type": "markdown",
   "metadata": {},
   "source": [
    "### Let's Try some Sorting!"
   ]
  },
  {
   "cell_type": "code",
   "execution_count": 11,
   "metadata": {},
   "outputs": [
    {
     "data": {
      "text/html": [
       "<div>\n",
       "<style scoped>\n",
       "    .dataframe tbody tr th:only-of-type {\n",
       "        vertical-align: middle;\n",
       "    }\n",
       "\n",
       "    .dataframe tbody tr th {\n",
       "        vertical-align: top;\n",
       "    }\n",
       "\n",
       "    .dataframe thead th {\n",
       "        text-align: right;\n",
       "    }\n",
       "</style>\n",
       "<table border=\"1\" class=\"dataframe\">\n",
       "  <thead>\n",
       "    <tr style=\"text-align: right;\">\n",
       "      <th></th>\n",
       "      <th>PLAYER</th>\n",
       "      <th>POSITION</th>\n",
       "      <th>TEAM</th>\n",
       "      <th>'15-'16 SALARY</th>\n",
       "    </tr>\n",
       "  </thead>\n",
       "  <tbody>\n",
       "    <tr>\n",
       "      <th>156</th>\n",
       "      <td>Chris Paul</td>\n",
       "      <td>PG</td>\n",
       "      <td>Los Angeles Clippers</td>\n",
       "      <td>21.468695</td>\n",
       "    </tr>\n",
       "    <tr>\n",
       "      <th>60</th>\n",
       "      <td>Derrick Rose</td>\n",
       "      <td>PG</td>\n",
       "      <td>Chicago Bulls</td>\n",
       "      <td>20.093064</td>\n",
       "    </tr>\n",
       "    <tr>\n",
       "      <th>269</th>\n",
       "      <td>Russell Westbrook</td>\n",
       "      <td>PG</td>\n",
       "      <td>Oklahoma City Thunder</td>\n",
       "      <td>16.744218</td>\n",
       "    </tr>\n",
       "    <tr>\n",
       "      <th>74</th>\n",
       "      <td>Kyrie Irving</td>\n",
       "      <td>PG</td>\n",
       "      <td>Cleveland Cavaliers</td>\n",
       "      <td>16.407501</td>\n",
       "    </tr>\n",
       "    <tr>\n",
       "      <th>400</th>\n",
       "      <td>John Wall</td>\n",
       "      <td>PG</td>\n",
       "      <td>Washington Wizards</td>\n",
       "      <td>15.851950</td>\n",
       "    </tr>\n",
       "    <tr>\n",
       "      <th>...</th>\n",
       "      <td>...</td>\n",
       "      <td>...</td>\n",
       "      <td>...</td>\n",
       "      <td>...</td>\n",
       "    </tr>\n",
       "    <tr>\n",
       "      <th>253</th>\n",
       "      <td>Bo McCalebb</td>\n",
       "      <td>PG</td>\n",
       "      <td>New Orleans Pelicans</td>\n",
       "      <td>0.525093</td>\n",
       "    </tr>\n",
       "    <tr>\n",
       "      <th>323</th>\n",
       "      <td>Lorenzo Brown</td>\n",
       "      <td>PG</td>\n",
       "      <td>Phoenix Suns</td>\n",
       "      <td>0.111444</td>\n",
       "    </tr>\n",
       "    <tr>\n",
       "      <th>399</th>\n",
       "      <td>Erick Green</td>\n",
       "      <td>PG</td>\n",
       "      <td>Utah Jazz</td>\n",
       "      <td>0.099418</td>\n",
       "    </tr>\n",
       "    <tr>\n",
       "      <th>297</th>\n",
       "      <td>Keith Appling</td>\n",
       "      <td>PG</td>\n",
       "      <td>Orlando Magic</td>\n",
       "      <td>0.061776</td>\n",
       "    </tr>\n",
       "    <tr>\n",
       "      <th>325</th>\n",
       "      <td>Phil Pressey</td>\n",
       "      <td>PG</td>\n",
       "      <td>Phoenix Suns</td>\n",
       "      <td>0.055722</td>\n",
       "    </tr>\n",
       "  </tbody>\n",
       "</table>\n",
       "<p>85 rows × 4 columns</p>\n",
       "</div>"
      ],
      "text/plain": [
       "                PLAYER POSITION                   TEAM  '15-'16 SALARY\n",
       "156         Chris Paul       PG   Los Angeles Clippers       21.468695\n",
       "60        Derrick Rose       PG          Chicago Bulls       20.093064\n",
       "269  Russell Westbrook       PG  Oklahoma City Thunder       16.744218\n",
       "74        Kyrie Irving       PG    Cleveland Cavaliers       16.407501\n",
       "400          John Wall       PG     Washington Wizards       15.851950\n",
       "..                 ...      ...                    ...             ...\n",
       "253        Bo McCalebb       PG   New Orleans Pelicans        0.525093\n",
       "323      Lorenzo Brown       PG           Phoenix Suns        0.111444\n",
       "399        Erick Green       PG              Utah Jazz        0.099418\n",
       "297      Keith Appling       PG          Orlando Magic        0.061776\n",
       "325       Phil Pressey       PG           Phoenix Suns        0.055722\n",
       "\n",
       "[85 rows x 4 columns]"
      ]
     },
     "execution_count": 11,
     "metadata": {},
     "output_type": "execute_result"
    }
   ],
   "source": [
    "# Look at all PGs sorted by salary...\n",
    "df_nba.loc[df_nba['POSITION'] == \"PG\"].sort_values(\"'15-'16 SALARY\", ascending=False)"
   ]
  },
  {
   "cell_type": "markdown",
   "metadata": {},
   "source": [
    "Note that the above sorting does not happen *in place* unless we explicitly tell Pandas to do so -- [Documentation for sort_values](https://pandas.pydata.org/pandas-docs/stable/reference/api/pandas.DataFrame.sort_values.html)"
   ]
  },
  {
   "cell_type": "code",
   "execution_count": 12,
   "metadata": {},
   "outputs": [
    {
     "data": {
      "text/html": [
       "<div>\n",
       "<style scoped>\n",
       "    .dataframe tbody tr th:only-of-type {\n",
       "        vertical-align: middle;\n",
       "    }\n",
       "\n",
       "    .dataframe tbody tr th {\n",
       "        vertical-align: top;\n",
       "    }\n",
       "\n",
       "    .dataframe thead th {\n",
       "        text-align: right;\n",
       "    }\n",
       "</style>\n",
       "<table border=\"1\" class=\"dataframe\">\n",
       "  <thead>\n",
       "    <tr style=\"text-align: right;\">\n",
       "      <th></th>\n",
       "      <th>PLAYER</th>\n",
       "      <th>POSITION</th>\n",
       "      <th>TEAM</th>\n",
       "      <th>'15-'16 SALARY</th>\n",
       "    </tr>\n",
       "  </thead>\n",
       "  <tbody>\n",
       "    <tr>\n",
       "      <th>3</th>\n",
       "      <td>Jeff Teague</td>\n",
       "      <td>PG</td>\n",
       "      <td>Atlanta Hawks</td>\n",
       "      <td>8.000000</td>\n",
       "    </tr>\n",
       "    <tr>\n",
       "      <th>8</th>\n",
       "      <td>Dennis Schroder</td>\n",
       "      <td>PG</td>\n",
       "      <td>Atlanta Hawks</td>\n",
       "      <td>1.763400</td>\n",
       "    </tr>\n",
       "    <tr>\n",
       "      <th>14</th>\n",
       "      <td>Avery Bradley</td>\n",
       "      <td>PG</td>\n",
       "      <td>Boston Celtics</td>\n",
       "      <td>7.730337</td>\n",
       "    </tr>\n",
       "    <tr>\n",
       "      <th>15</th>\n",
       "      <td>Isaiah Thomas</td>\n",
       "      <td>PG</td>\n",
       "      <td>Boston Celtics</td>\n",
       "      <td>6.912869</td>\n",
       "    </tr>\n",
       "    <tr>\n",
       "      <th>18</th>\n",
       "      <td>Marcus Smart</td>\n",
       "      <td>PG</td>\n",
       "      <td>Boston Celtics</td>\n",
       "      <td>3.431040</td>\n",
       "    </tr>\n",
       "  </tbody>\n",
       "</table>\n",
       "</div>"
      ],
      "text/plain": [
       "             PLAYER POSITION            TEAM  '15-'16 SALARY\n",
       "3       Jeff Teague       PG   Atlanta Hawks        8.000000\n",
       "8   Dennis Schroder       PG   Atlanta Hawks        1.763400\n",
       "14    Avery Bradley       PG  Boston Celtics        7.730337\n",
       "15    Isaiah Thomas       PG  Boston Celtics        6.912869\n",
       "18     Marcus Smart       PG  Boston Celtics        3.431040"
      ]
     },
     "execution_count": 12,
     "metadata": {},
     "output_type": "execute_result"
    }
   ],
   "source": [
    "# Once we sort by values it does not stay the same unless we overwrite the table or do it in place...\n",
    "df_nba.loc[df_nba['POSITION'] == \"PG\"][:5]"
   ]
  },
  {
   "cell_type": "markdown",
   "metadata": {},
   "source": [
    "### So let's try to sort it in place!"
   ]
  },
  {
   "cell_type": "code",
   "execution_count": 13,
   "metadata": {},
   "outputs": [
    {
     "name": "stderr",
     "output_type": "stream",
     "text": [
      "/opt/conda/lib/python3.9/site-packages/pandas/util/_decorators.py:311: SettingWithCopyWarning: \n",
      "A value is trying to be set on a copy of a slice from a DataFrame\n",
      "\n",
      "See the caveats in the documentation: https://pandas.pydata.org/pandas-docs/stable/user_guide/indexing.html#returning-a-view-versus-a-copy\n",
      "  return func(*args, **kwargs)\n"
     ]
    }
   ],
   "source": [
    "df_nba.loc[df_nba['POSITION'] == \"PG\"].sort_values(\"'15-'16 SALARY\", inplace=True, ascending=False)\n",
    "\n",
    "## This won't work -- note that we are getting a VIEW of the data with the first command, so \n",
    "## we get the dreaded set with copy warning! because we are only operating on a view of the data!"
   ]
  },
  {
   "cell_type": "code",
   "execution_count": 14,
   "metadata": {},
   "outputs": [],
   "source": [
    "# We have to sort, then print the whole data frame\n",
    "df_nba.sort_values(\"'15-'16 SALARY\", inplace=True, ascending=False)"
   ]
  },
  {
   "cell_type": "code",
   "execution_count": 15,
   "metadata": {},
   "outputs": [
    {
     "data": {
      "text/html": [
       "<div>\n",
       "<style scoped>\n",
       "    .dataframe tbody tr th:only-of-type {\n",
       "        vertical-align: middle;\n",
       "    }\n",
       "\n",
       "    .dataframe tbody tr th {\n",
       "        vertical-align: top;\n",
       "    }\n",
       "\n",
       "    .dataframe thead th {\n",
       "        text-align: right;\n",
       "    }\n",
       "</style>\n",
       "<table border=\"1\" class=\"dataframe\">\n",
       "  <thead>\n",
       "    <tr style=\"text-align: right;\">\n",
       "      <th></th>\n",
       "      <th>PLAYER</th>\n",
       "      <th>POSITION</th>\n",
       "      <th>TEAM</th>\n",
       "      <th>'15-'16 SALARY</th>\n",
       "    </tr>\n",
       "  </thead>\n",
       "  <tbody>\n",
       "    <tr>\n",
       "      <th>156</th>\n",
       "      <td>Chris Paul</td>\n",
       "      <td>PG</td>\n",
       "      <td>Los Angeles Clippers</td>\n",
       "      <td>21.468695</td>\n",
       "    </tr>\n",
       "    <tr>\n",
       "      <th>60</th>\n",
       "      <td>Derrick Rose</td>\n",
       "      <td>PG</td>\n",
       "      <td>Chicago Bulls</td>\n",
       "      <td>20.093064</td>\n",
       "    </tr>\n",
       "    <tr>\n",
       "      <th>269</th>\n",
       "      <td>Russell Westbrook</td>\n",
       "      <td>PG</td>\n",
       "      <td>Oklahoma City Thunder</td>\n",
       "      <td>16.744218</td>\n",
       "    </tr>\n",
       "    <tr>\n",
       "      <th>74</th>\n",
       "      <td>Kyrie Irving</td>\n",
       "      <td>PG</td>\n",
       "      <td>Cleveland Cavaliers</td>\n",
       "      <td>16.407501</td>\n",
       "    </tr>\n",
       "    <tr>\n",
       "      <th>400</th>\n",
       "      <td>John Wall</td>\n",
       "      <td>PG</td>\n",
       "      <td>Washington Wizards</td>\n",
       "      <td>15.851950</td>\n",
       "    </tr>\n",
       "  </tbody>\n",
       "</table>\n",
       "</div>"
      ],
      "text/plain": [
       "                PLAYER POSITION                   TEAM  '15-'16 SALARY\n",
       "156         Chris Paul       PG   Los Angeles Clippers       21.468695\n",
       "60        Derrick Rose       PG          Chicago Bulls       20.093064\n",
       "269  Russell Westbrook       PG  Oklahoma City Thunder       16.744218\n",
       "74        Kyrie Irving       PG    Cleveland Cavaliers       16.407501\n",
       "400          John Wall       PG     Washington Wizards       15.851950"
      ]
     },
     "execution_count": 15,
     "metadata": {},
     "output_type": "execute_result"
    }
   ],
   "source": [
    "df_nba.loc[df_nba['POSITION'] == \"PG\"][:5]"
   ]
  },
  {
   "cell_type": "code",
   "execution_count": 16,
   "metadata": {},
   "outputs": [
    {
     "data": {
      "text/html": [
       "<div>\n",
       "<style scoped>\n",
       "    .dataframe tbody tr th:only-of-type {\n",
       "        vertical-align: middle;\n",
       "    }\n",
       "\n",
       "    .dataframe tbody tr th {\n",
       "        vertical-align: top;\n",
       "    }\n",
       "\n",
       "    .dataframe thead th {\n",
       "        text-align: right;\n",
       "    }\n",
       "</style>\n",
       "<table border=\"1\" class=\"dataframe\">\n",
       "  <thead>\n",
       "    <tr style=\"text-align: right;\">\n",
       "      <th></th>\n",
       "      <th>PLAYER</th>\n",
       "      <th>POSITION</th>\n",
       "      <th>TEAM</th>\n",
       "      <th>'15-'16 SALARY</th>\n",
       "    </tr>\n",
       "  </thead>\n",
       "  <tbody>\n",
       "    <tr>\n",
       "      <th>169</th>\n",
       "      <td>Kobe Bryant</td>\n",
       "      <td>SF</td>\n",
       "      <td>Los Angeles Lakers</td>\n",
       "      <td>25.000000</td>\n",
       "    </tr>\n",
       "    <tr>\n",
       "      <th>29</th>\n",
       "      <td>Joe Johnson</td>\n",
       "      <td>SF</td>\n",
       "      <td>Brooklyn Nets</td>\n",
       "      <td>24.894863</td>\n",
       "    </tr>\n",
       "    <tr>\n",
       "      <th>72</th>\n",
       "      <td>LeBron James</td>\n",
       "      <td>SF</td>\n",
       "      <td>Cleveland Cavaliers</td>\n",
       "      <td>22.970500</td>\n",
       "    </tr>\n",
       "    <tr>\n",
       "      <th>255</th>\n",
       "      <td>Carmelo Anthony</td>\n",
       "      <td>SF</td>\n",
       "      <td>New York Knicks</td>\n",
       "      <td>22.875000</td>\n",
       "    </tr>\n",
       "    <tr>\n",
       "      <th>131</th>\n",
       "      <td>Dwight Howard</td>\n",
       "      <td>C</td>\n",
       "      <td>Houston Rockets</td>\n",
       "      <td>22.359364</td>\n",
       "    </tr>\n",
       "  </tbody>\n",
       "</table>\n",
       "</div>"
      ],
      "text/plain": [
       "              PLAYER POSITION                 TEAM  '15-'16 SALARY\n",
       "169      Kobe Bryant       SF   Los Angeles Lakers       25.000000\n",
       "29       Joe Johnson       SF        Brooklyn Nets       24.894863\n",
       "72      LeBron James       SF  Cleveland Cavaliers       22.970500\n",
       "255  Carmelo Anthony       SF      New York Knicks       22.875000\n",
       "131    Dwight Howard        C      Houston Rockets       22.359364"
      ]
     },
     "execution_count": 16,
     "metadata": {},
     "output_type": "execute_result"
    }
   ],
   "source": [
    "# But now everything is sorted!\n",
    "df_nba[:5]"
   ]
  },
  {
   "cell_type": "code",
   "execution_count": 17,
   "metadata": {},
   "outputs": [
    {
     "data": {
      "text/html": [
       "<div>\n",
       "<style scoped>\n",
       "    .dataframe tbody tr th:only-of-type {\n",
       "        vertical-align: middle;\n",
       "    }\n",
       "\n",
       "    .dataframe tbody tr th {\n",
       "        vertical-align: top;\n",
       "    }\n",
       "\n",
       "    .dataframe thead th {\n",
       "        text-align: right;\n",
       "    }\n",
       "</style>\n",
       "<table border=\"1\" class=\"dataframe\">\n",
       "  <thead>\n",
       "    <tr style=\"text-align: right;\">\n",
       "      <th></th>\n",
       "      <th>PLAYER</th>\n",
       "      <th>POSITION</th>\n",
       "      <th>TEAM</th>\n",
       "      <th>'15-'16 SALARY</th>\n",
       "    </tr>\n",
       "  </thead>\n",
       "  <tbody>\n",
       "    <tr>\n",
       "      <th>3</th>\n",
       "      <td>Jeff Teague</td>\n",
       "      <td>PG</td>\n",
       "      <td>Atlanta Hawks</td>\n",
       "      <td>8.000000</td>\n",
       "    </tr>\n",
       "    <tr>\n",
       "      <th>8</th>\n",
       "      <td>Dennis Schroder</td>\n",
       "      <td>PG</td>\n",
       "      <td>Atlanta Hawks</td>\n",
       "      <td>1.763400</td>\n",
       "    </tr>\n",
       "    <tr>\n",
       "      <th>14</th>\n",
       "      <td>Avery Bradley</td>\n",
       "      <td>PG</td>\n",
       "      <td>Boston Celtics</td>\n",
       "      <td>7.730337</td>\n",
       "    </tr>\n",
       "    <tr>\n",
       "      <th>15</th>\n",
       "      <td>Isaiah Thomas</td>\n",
       "      <td>PG</td>\n",
       "      <td>Boston Celtics</td>\n",
       "      <td>6.912869</td>\n",
       "    </tr>\n",
       "    <tr>\n",
       "      <th>18</th>\n",
       "      <td>Marcus Smart</td>\n",
       "      <td>PG</td>\n",
       "      <td>Boston Celtics</td>\n",
       "      <td>3.431040</td>\n",
       "    </tr>\n",
       "  </tbody>\n",
       "</table>\n",
       "</div>"
      ],
      "text/plain": [
       "             PLAYER POSITION            TEAM  '15-'16 SALARY\n",
       "3       Jeff Teague       PG   Atlanta Hawks        8.000000\n",
       "8   Dennis Schroder       PG   Atlanta Hawks        1.763400\n",
       "14    Avery Bradley       PG  Boston Celtics        7.730337\n",
       "15    Isaiah Thomas       PG  Boston Celtics        6.912869\n",
       "18     Marcus Smart       PG  Boston Celtics        3.431040"
      ]
     },
     "execution_count": 17,
     "metadata": {},
     "output_type": "execute_result"
    }
   ],
   "source": [
    "# Now let's put it back to normal... Note here we used .sort_index, if we used reset_index we'd renumber!!\n",
    "df_nba.sort_index(inplace=True)\n",
    "df_nba.loc[df_nba['POSITION'] == \"PG\"][:5]"
   ]
  },
  {
   "cell_type": "code",
   "execution_count": 18,
   "metadata": {},
   "outputs": [
    {
     "data": {
      "text/plain": [
       "<AxesSubplot:>"
      ]
     },
     "execution_count": 18,
     "metadata": {},
     "output_type": "execute_result"
    },
    {
     "data": {
      "image/png": "[encoded data removed]",
      "text/plain": [
       "<Figure size 432x288 with 1 Axes>"
      ]
     },
     "metadata": {},
     "output_type": "display_data"
    }
   ],
   "source": [
    "# Get a histogram with Pandas\n",
    "df_nba['POSITION'].hist()"
   ]
  },
  {
   "cell_type": "code",
   "execution_count": 19,
   "metadata": {},
   "outputs": [
    {
     "name": "stderr",
     "output_type": "stream",
     "text": [
      "/opt/conda/lib/python3.9/site-packages/seaborn/_decorators.py:36: FutureWarning: Pass the following variable as a keyword arg: x. From version 0.12, the only valid positional argument will be `data`, and passing other arguments without an explicit keyword will result in an error or misinterpretation.\n",
      "  warnings.warn(\n"
     ]
    },
    {
     "data": {
      "text/plain": [
       "<AxesSubplot:xlabel='POSITION', ylabel='count'>"
      ]
     },
     "execution_count": 19,
     "metadata": {},
     "output_type": "execute_result"
    },
    {
     "data": {
      "image/png": "[encoded data removed]",
      "text/plain": [
       "<Figure size 432x288 with 1 Axes>"
      ]
     },
     "metadata": {},
     "output_type": "display_data"
    }
   ],
   "source": [
    "# Maybe see what the position distribution is... (using seaborn)\n",
    "sns.countplot(df_nba['POSITION'])"
   ]
  },
  {
   "cell_type": "code",
   "execution_count": 20,
   "metadata": {},
   "outputs": [
    {
     "data": {
      "text/plain": [
       "<AxesSubplot:xlabel='POSITION', ylabel=\"'15-'16 SALARY\">"
      ]
     },
     "execution_count": 20,
     "metadata": {},
     "output_type": "execute_result"
    },
    {
     "data": {
      "image/png": "[encoded data removed]",
      "text/plain": [
       "<Figure size 432x288 with 1 Axes>"
      ]
     },
     "metadata": {},
     "output_type": "display_data"
    }
   ],
   "source": [
    "# Or we can see how salaries are distributed...\n",
    "df_nba.plot.scatter(x='POSITION', y=\"'15-'16 SALARY\")"
   ]
  },
  {
   "cell_type": "code",
   "execution_count": 21,
   "metadata": {},
   "outputs": [
    {
     "data": {
      "text/plain": [
       "<AxesSubplot:title={'center':\"'15-'16 SALARY\"}, xlabel='[POSITION]'>"
      ]
     },
     "execution_count": 21,
     "metadata": {},
     "output_type": "execute_result"
    },
    {
     "data": {
      "image/png": "[encoded data removed]",
      "text/plain": [
       "<Figure size 720x720 with 1 Axes>"
      ]
     },
     "metadata": {},
     "output_type": "display_data"
    }
   ],
   "source": [
    "# Or box plots to get really fancy...\n",
    "df_nba.boxplot(column=[\"'15-'16 SALARY\"], by=['POSITION'], figsize=(10,10))"
   ]
  },
  {
   "cell_type": "markdown",
   "metadata": {},
   "source": [
    "## We can also use Pandas to read a CSV that is online... \n"
   ]
  },
  {
   "cell_type": "code",
   "execution_count": null,
   "metadata": {},
   "outputs": [],
   "source": [
    "#df_class_survey = pd.read_csv(\"./Data Science Day 1 Questions (Responses) - Form Responses 1.csv\")\n",
    "\n",
    "# We can also read directly from a google sheet if we want.  Note that at the end we have to add `/export?gid=1081980213&format=csv`\n",
    "# The gid field tell us what sheet to load and the format gives us csv\n",
    "df_class_survey = pd.read_csv(\"https://docs.google.com/spreadsheets/d/1d4C9HEIOkL7x_W4rYCRsflt_Mw7I6DGLUbAAUwwIqUM/export?gid=1081980213&format=csv\")"
   ]
  },
  {
   "cell_type": "code",
   "execution_count": null,
   "metadata": {},
   "outputs": [],
   "source": [
    "df_class_survey[:5]"
   ]
  },
  {
   "cell_type": "code",
   "execution_count": null,
   "metadata": {},
   "outputs": [],
   "source": [
    "# Maybe see what the position distribution is...\n",
    "sns.countplot(df_class_survey['I use Jupyter Notebooks'])\n"
   ]
  },
  {
   "cell_type": "code",
   "execution_count": null,
   "metadata": {},
   "outputs": [],
   "source": [
    "# Maybe see what the position distribution is...\n",
    "g = sns.countplot(df_class_survey['I use Jupyter Notebooks'])\n",
    "g.set_xticklabels(g.get_xticklabels(),rotation=-85)\n",
    "display(g)"
   ]
  },
  {
   "cell_type": "markdown",
   "metadata": {},
   "source": [
    "# That was fun, let's try to read some books..."
   ]
  },
  {
   "cell_type": "code",
   "execution_count": null,
   "metadata": {},
   "outputs": [],
   "source": [
    "from urllib.request import urlopen \n",
    "import re\n",
    "def read_url(url): \n",
    "    return re.sub('\\\\s+', ' ', urlopen(url).read().decode())"
   ]
  },
  {
   "cell_type": "code",
   "execution_count": null,
   "metadata": {},
   "outputs": [],
   "source": [
    "\n",
    "# Read two books, fast!\n",
    "\n",
    "huck_finn_url = 'https://www.inferentialthinking.com/data/huck_finn.txt'\n",
    "huck_finn_text = read_url(huck_finn_url)\n",
    "huck_finn_chapters = huck_finn_text.split('CHAPTER ')[44:]\n",
    "\n",
    "little_women_url = 'https://www.inferentialthinking.com/data/little_women.txt'\n",
    "little_women_text = read_url(little_women_url)\n",
    "little_women_chapters = little_women_text.split('CHAPTER ')[1:]"
   ]
  },
  {
   "cell_type": "code",
   "execution_count": null,
   "metadata": {
    "scrolled": true
   },
   "outputs": [],
   "source": [
    "huck_finn_chapters"
   ]
  },
  {
   "cell_type": "code",
   "execution_count": null,
   "metadata": {},
   "outputs": [],
   "source": [
    "# Turn it into a data frame..\n",
    "df_huck = pd.DataFrame(huck_finn_chapters, columns=[\"Text\"])"
   ]
  },
  {
   "cell_type": "code",
   "execution_count": null,
   "metadata": {},
   "outputs": [],
   "source": [
    "display(df_huck[:5])"
   ]
  },
  {
   "cell_type": "code",
   "execution_count": null,
   "metadata": {},
   "outputs": [],
   "source": [
    "# Count how many times we see each character...\n",
    "# Here we make a data frame out of a dictionary where the index is the column name\n",
    "# and the values are the column\n",
    "counts = pd.DataFrame({\n",
    "        'Jim':np.char.count(huck_finn_chapters, 'Jim'),\n",
    "        'Tom':np.char.count(huck_finn_chapters, 'Tom'),\n",
    "        'Huck':np.char.count(huck_finn_chapters, 'Huck')\n",
    "    })"
   ]
  },
  {
   "cell_type": "code",
   "execution_count": null,
   "metadata": {},
   "outputs": [],
   "source": [
    "counts[:5]"
   ]
  },
  {
   "cell_type": "code",
   "execution_count": null,
   "metadata": {},
   "outputs": [],
   "source": [
    "ax = counts.cumsum().plot(figsize=(10,8))\n",
    "ax.set_xlabel(\"Chapter\")\n",
    "ax.set_ylabel(\"Number of Times\")\n",
    "#ax.set_ylim((-5,310))\n",
    "plt.show()"
   ]
  },
  {
   "cell_type": "markdown",
   "metadata": {},
   "source": [
    "There are lots of options for the figures ... Note that here we are using [Pandas Plot](https://pandas.pydata.org/pandas-docs/version/0.23/generated/pandas.DataFrame.plot.html) which is a wrapper around [MatPlot's Plot](https://matplotlib.org/3.1.1/api/_as_gen/matplotlib.pyplot.plot.html)."
   ]
  },
  {
   "cell_type": "code",
   "execution_count": null,
   "metadata": {},
   "outputs": [],
   "source": [
    "ax = counts.cumsum().plot(figsize=(10,8), fontsize=(5),\n",
    "                                          lw=2, \n",
    "                                          markersize=12,\n",
    "                                          style=['X-','o-.','v--','s:','d:','*-.'])\n",
    "ax.set_xlabel(\"Chapter\")\n",
    "ax.set_ylabel(\"Number of Times\")\n",
    "ax.set_ylim((-5,310))\n",
    "plt.show()"
   ]
  },
  {
   "cell_type": "code",
   "execution_count": null,
   "metadata": {},
   "outputs": [],
   "source": [
    "# Now for Little women...\n",
    "\n",
    "people = ['Amy', 'Beth', 'Jo', 'Laurie', 'Meg']\n",
    "people_counts = {pp: np.char.count(little_women_chapters, pp) for pp in people}\n"
   ]
  },
  {
   "cell_type": "code",
   "execution_count": null,
   "metadata": {},
   "outputs": [],
   "source": [
    "people_counts.keys()"
   ]
  },
  {
   "cell_type": "code",
   "execution_count": null,
   "metadata": {},
   "outputs": [],
   "source": [
    "people_counts['Beth']"
   ]
  },
  {
   "cell_type": "code",
   "execution_count": null,
   "metadata": {},
   "outputs": [],
   "source": [
    "# Make a pandas table...\n",
    "counts = pd.DataFrame(people_counts)\n",
    "counts"
   ]
  },
  {
   "cell_type": "code",
   "execution_count": null,
   "metadata": {},
   "outputs": [],
   "source": [
    "ax = counts.cumsum().plot(figsize=(10,8), fontsize=(15),\n",
    "                                          lw=2, \n",
    "                                          markersize=12,\n",
    "                                          style=['X-','o-.','v--','s:','d:','*-.'])\n",
    "ax.set_xlabel(\"Chapter\")\n",
    "ax.set_ylabel(\"Number of Times\")\n",
    "plt.show()"
   ]
  },
  {
   "cell_type": "markdown",
   "metadata": {},
   "source": [
    "## Something more fun...\n",
    "\n",
    "Inspired by the [Inferential Thinking Book](https://www.inferentialthinking.com/chapters/01/3/2/Another_Kind_Of_Character) let's do some more analysis on the text that we have loaded up.\n",
    "\n",
    "First let's count the number of periods and the total number of characters in each of the books."
   ]
  },
  {
   "cell_type": "code",
   "execution_count": null,
   "metadata": {},
   "outputs": [],
   "source": [
    "# Recall that each element in the array corresponds to a chapter.\n",
    "print(huck_finn_chapters[0][:50])\n",
    "print(little_women_chapters[0][:50])"
   ]
  },
  {
   "cell_type": "code",
   "execution_count": null,
   "metadata": {},
   "outputs": [],
   "source": [
    "chars_periods_huck_finn = pd.DataFrame({\n",
    "        'Huck Finn Chapter Length':[len(s) for s in huck_finn_chapters],\n",
    "        'Number of Periods':np.char.count(huck_finn_chapters, '.')\n",
    "        })\n",
    "chars_periods_little_women = pd.DataFrame({\n",
    "        'Little Women Chapter Length': [len(s) for s in little_women_chapters],\n",
    "        'Number of Periods': np.char.count(little_women_chapters, '.')\n",
    "        })"
   ]
  },
  {
   "cell_type": "code",
   "execution_count": null,
   "metadata": {},
   "outputs": [],
   "source": [
    "display(chars_periods_huck_finn[:5])\n",
    "display(chars_periods_little_women[:5])"
   ]
  },
  {
   "cell_type": "markdown",
   "metadata": {},
   "source": [
    "What do we notice about the above?  It seems like *Little Women* is significantly longer per chapter than *Huck Finn*.  Let's try plotting this relationship on the same graph.\n",
    "\n",
    "To do this we are going to use the `scatter` function from [MatPlotLib](https://matplotlib.org/3.1.1/api/_as_gen/matplotlib.pyplot.scatter.html)"
   ]
  },
  {
   "cell_type": "code",
   "execution_count": null,
   "metadata": {},
   "outputs": [],
   "source": [
    "plt.figure(figsize=(6, 6))\n",
    "plt.scatter(chars_periods_huck_finn[\"Number of Periods\"], \n",
    "              chars_periods_huck_finn[\"Huck Finn Chapter Length\"], \n",
    "              color='darkblue')\n",
    "\n",
    "plt.scatter(chars_periods_little_women[\"Number of Periods\"], \n",
    "              chars_periods_little_women[\"Little Women Chapter Length\"], \n",
    "              color='gold')\n",
    "\n",
    "plt.xlabel('Number of periods in chapter')\n",
    "plt.ylabel('Number of characters in chapter')"
   ]
  },
  {
   "cell_type": "markdown",
   "metadata": {},
   "source": [
    "The above plot shows us a few things:\n",
    "1. Little Women is much longer on average than Huck\n",
    "2. There seems to be a linear relationship between the number of characters and the number of periods\n",
    "\n",
    "If we look at all the chapters that have 100 periods we see they have 10,000 - 15,000 characters.. or roughly 100-150 characters per sentence.  Seems like a Tweet."
   ]
  },
  {
   "cell_type": "code",
   "execution_count": null,
   "metadata": {},
   "outputs": [],
   "source": [
    "# Let's formally find the relationship...\n",
    "from scipy import stats\n",
    "\n",
    "# First let's make the tables the same..\n",
    "chars_periods_huck_finn.columns = ['characters', 'periods']\n",
    "chars_periods_little_women.columns = ['characters', 'periods']\n",
    "display(chars_periods_huck_finn[:5])\n",
    "len(chars_periods_huck_finn)"
   ]
  },
  {
   "cell_type": "code",
   "execution_count": null,
   "metadata": {},
   "outputs": [],
   "source": [
    "# Now we are going to concatinate the data together -- this is our first join operation!\n",
    "\n",
    "merged = pd.concat([chars_periods_huck_finn, chars_periods_little_women])\n",
    "merged"
   ]
  },
  {
   "cell_type": "code",
   "execution_count": null,
   "metadata": {},
   "outputs": [],
   "source": [
    "len(merged)"
   ]
  },
  {
   "cell_type": "code",
   "execution_count": null,
   "metadata": {},
   "outputs": [],
   "source": [
    "slope, intercept, r_value, p_value, std_err = stats.linregress(merged['periods'],merged['characters'])"
   ]
  },
  {
   "cell_type": "code",
   "execution_count": null,
   "metadata": {},
   "outputs": [],
   "source": [
    "slope"
   ]
  },
  {
   "cell_type": "code",
   "execution_count": null,
   "metadata": {},
   "outputs": [],
   "source": [
    "intercept"
   ]
  },
  {
   "cell_type": "code",
   "execution_count": null,
   "metadata": {},
   "outputs": [],
   "source": [
    "r_value"
   ]
  },
  {
   "cell_type": "code",
   "execution_count": null,
   "metadata": {},
   "outputs": [],
   "source": [
    "p_value"
   ]
  },
  {
   "cell_type": "code",
   "execution_count": null,
   "metadata": {},
   "outputs": [],
   "source": [
    "std_err"
   ]
  },
  {
   "cell_type": "code",
   "execution_count": null,
   "metadata": {},
   "outputs": [],
   "source": [
    "line = slope * merged['periods'] + intercept"
   ]
  },
  {
   "cell_type": "markdown",
   "metadata": {},
   "source": [
    "Now we can add the line above to our plot using the [plot function](https://matplotlib.org/3.1.1/api/_as_gen/matplotlib.pyplot.plot.html)."
   ]
  },
  {
   "cell_type": "code",
   "execution_count": null,
   "metadata": {},
   "outputs": [],
   "source": [
    "plt.figure(figsize=(10, 10))\n",
    "plt.scatter(chars_periods_huck_finn[\"periods\"], \n",
    "              chars_periods_huck_finn[\"characters\"], \n",
    "              color='darkblue')\n",
    "\n",
    "plt.scatter(chars_periods_little_women[\"periods\"], \n",
    "              chars_periods_little_women[\"characters\"], \n",
    "              color='gold')\n",
    "\n",
    "plt.plot(merged['periods'], line, lw=1, ls=':')\n",
    "\n",
    "plt.xlabel('Number of periods in chapter')\n",
    "plt.ylabel('Number of characters in chapter')"
   ]
  },
  {
   "cell_type": "code",
   "execution_count": null,
   "metadata": {},
   "outputs": [],
   "source": []
  },
  {
   "cell_type": "code",
   "execution_count": null,
   "metadata": {},
   "outputs": [],
   "source": []
  }
 ],
 "metadata": {
  "kernelspec": {
   "display_name": "Python 3 (ipykernel)",
   "language": "python",
   "name": "python3"
  },
  "language_info": {
   "codemirror_mode": {
    "name": "ipython",
    "version": 3
   },
   "file_extension": ".py",
   "mimetype": "text/x-python",
   "name": "python",
   "nbconvert_exporter": "python",
   "pygments_lexer": "ipython3",
   "version": "3.9.6"
  }
 },
 "nbformat": 4,
 "nbformat_minor": 2
}
